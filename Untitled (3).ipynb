{
 "cells": [
  {
   "cell_type": "code",
   "execution_count": 4,
   "id": "b4c8e3d6-92b6-45e8-97be-4830f77145a6",
   "metadata": {},
   "outputs": [
    {
     "name": "stdout",
     "output_type": "stream",
     "text": [
      "[1, 3, 5, 7, 9, 11, 13, 15, 17, 19, 21, 23, 25]\n"
     ]
    }
   ],
   "source": [
    "# Q1. Which keyword is used to create a function? Create a function to return a list of odd numbers in the range of 1 to 25.'''\n",
    "\n",
    "''' Ans. The \"def\" keyword is used to create, (or define) a function. '''\n",
    "\n",
    "def odd_numbers():\n",
    "    j = []\n",
    "    for i in range(1,26):\n",
    "        if i%2 != 0:\n",
    "            j = j+[i]\n",
    "    print(j)\n",
    "\n",
    "odd_numbers()"
   ]
  },
  {
   "cell_type": "code",
   "execution_count": 16,
   "id": "2c220559-063c-48bc-962a-d10627c5583e",
   "metadata": {},
   "outputs": [
    {
     "name": "stdout",
     "output_type": "stream",
     "text": [
      "Sum1 = 5\n",
      "Sum2 = 10\n",
      "Sum3 = 17\n",
      "Sum4 = 26\n"
     ]
    }
   ],
   "source": [
    "# Q2. Why *args and **kwargs is used in some functions? Create a function each for *args and **kwargsto demonstrate their use.\n",
    "\n",
    "''' Ans.  You can use *args and **kwargs as arguments of a function when you are unsure about the number of arguments \n",
    "          to pass in the functions.\n",
    "          These make a Python function flexible so it can accept a variable number of arguments and keyword arguments, respectively\n",
    "          \n",
    "          *args allows us to pass a variable number of non-keyword arguments to a Python function. In the function,\n",
    "          we should use an asterisk (*) before the parameter name to pass a variable number of arguments.\n",
    "          \n",
    "          **kwargs allows us to pass a variable number of keyword arguments to a Python function. In the function, \n",
    "          we use the double-asterisk (**) before the parameter name to denote this type of argument. '''\n",
    "\n",
    "# *args function example\n",
    "\n",
    "def add(*numbers):\n",
    "    total = 0\n",
    "    for num in numbers:\n",
    "        total += num\n",
    "    return total\n",
    "\n",
    "\n",
    "print(\"Sum1 = \"+ str(add(2, 3)))\n",
    "print(\"Sum2 = \"+ str(add(2, 3, 5)))\n",
    "print(\"Sum3 = \"+ str(add(2, 3, 5, 7)))\n",
    "print(\"Sum4 = \"+ str(add(2, 3, 5, 7, 9)))\n",
    "          \n"
   ]
  },
  {
   "cell_type": "code",
   "execution_count": 19,
   "id": "b45551f0-7698-436d-b71f-f5a46acefb75",
   "metadata": {},
   "outputs": [
    {
     "name": "stdout",
     "output_type": "stream",
     "text": [
      "250\n",
      "260\n",
      "170\n"
     ]
    }
   ],
   "source": [
    "# **kwargs function example\n",
    "\n",
    "def total_marks(**marks):\n",
    "    total = 0\n",
    "    for i in marks.values():\n",
    "        total += i\n",
    "    return total\n",
    "\n",
    "\n",
    "print(total_marks(Amit=100, Harsh=70, Alok=80))\n",
    "print(total_marks(Amit=100, Harsh=70, Alok=80, Ayush=10))\n",
    "print(total_marks(Amit=100, Harsh=70))\n"
   ]
  },
  {
   "cell_type": "code",
   "execution_count": 5,
   "id": "13639f4e-ac88-4637-bec6-1e96cac9bea9",
   "metadata": {},
   "outputs": [
    {
     "name": "stdout",
     "output_type": "stream",
     "text": [
      "first_el = 2\n",
      "second_el = 4\n",
      "third_el = 6\n",
      "fourth_el = 8\n",
      "fifth_el = 10\n"
     ]
    }
   ],
   "source": [
    "# Q3.  What is an iterator in python? Name the method used to initialise the iterator object and the method\n",
    "#      used for iteration. Use these methods to print the first five elements of the given list\n",
    "#      [2, 4, 6, 8, 10, 12, 14, 16, 18, 20].\n",
    "\n",
    "''' Ans.  An iterator is an object that contains a countable number of values.\n",
    "          Lists, tuples, dictionaries, and sets are all iterable objects. \n",
    "          They are iterable containers which you can get an iterator from.\n",
    "          \n",
    "          The iterator object is initialized using the iter() method. It uses the next() method for iteration. '''\n",
    "\n",
    "list = [2, 4, 6, 8, 10, 12, 14, 16, 18, 20]\n",
    "myiter = iter(list)\n",
    "\n",
    "print(\"first_el = \"+str(next(myiter)))\n",
    "print(\"second_el = \"+str(next(myiter)))\n",
    "print(\"third_el = \"+str(next(myiter)))\n",
    "print(\"fourth_el = \"+str(next(myiter)))\n",
    "print(\"fifth_el = \"+str(next(myiter)))"
   ]
  },
  {
   "cell_type": "code",
   "execution_count": 4,
   "id": "daac09bd-28e9-44a0-af97-bc3a8049180c",
   "metadata": {},
   "outputs": [
    {
     "name": "stdout",
     "output_type": "stream",
     "text": [
      "First item\n",
      "10\n",
      "Second item\n",
      "20\n",
      "Last item\n",
      "30\n"
     ]
    }
   ],
   "source": [
    "#  Q4. What is a generator function in python? Why yield keyword is used? Give an example of a generator function.\n",
    "\n",
    "''' Ans.  Python provides a generator to create your own iterator function. A generator is a special type of function \n",
    "          which does not return a single value, instead, it returns an iterator object with a sequence of values.\n",
    "          \n",
    "          The yield keyword will convert an expression that is specified along with it to a generator object and \n",
    "          return it to the caller\n",
    "          In a generator function, a \"yield\" statement is used rather than a return statement .'''\n",
    "          \n",
    "          # Example of Generator function :\n",
    "        \n",
    "def mygenerator():\n",
    "    print('First item')\n",
    "    yield 10\n",
    "\n",
    "    print('Second item')\n",
    "    yield 20\n",
    "\n",
    "    print('Last item')\n",
    "    yield 30\n",
    "    \n",
    "gen = mygenerator()\n",
    "print(gen.__next__())\n",
    "print(gen.__next__())\n",
    "print(gen.__next__())"
   ]
  },
  {
   "cell_type": "code",
   "execution_count": 36,
   "id": "9833076a-e3ba-4060-9e15-86970f6a0d82",
   "metadata": {},
   "outputs": [
    {
     "name": "stdout",
     "output_type": "stream",
     "text": [
      "2\n",
      "3\n",
      "5\n",
      "7\n",
      "11\n",
      "13\n",
      "17\n",
      "19\n",
      "23\n",
      "29\n",
      "31\n",
      "37\n",
      "41\n",
      "43\n",
      "47\n",
      "53\n",
      "59\n",
      "61\n",
      "67\n",
      "71\n"
     ]
    }
   ],
   "source": [
    "# Q5. Create a generator function for prime numbers less than 1000. Use the next() method to print the first 20 prime \n",
    "#     numbers.\n",
    "\n",
    "# Ans.\n",
    "def primenum():\n",
    "    for i in range(2,1001):\n",
    "        flag = 0\n",
    "        for j in range(2,i):\n",
    "            if i%j==0:\n",
    "                flag = 1\n",
    "                break\n",
    "        if flag ==0:\n",
    "            yield i\n",
    "        \n",
    "p = primenum()\n",
    "print(p.__next__())\n",
    "print(p.__next__())\n",
    "print(p.__next__())\n",
    "print(p.__next__())\n",
    "print(p.__next__())\n",
    "print(p.__next__())\n",
    "print(p.__next__())\n",
    "print(p.__next__())\n",
    "print(p.__next__())\n",
    "print(p.__next__())\n",
    "print(p.__next__())\n",
    "print(p.__next__())\n",
    "print(p.__next__())\n",
    "print(p.__next__())\n",
    "print(p.__next__())\n",
    "print(p.__next__())\n",
    "print(p.__next__())\n",
    "print(p.__next__())\n",
    "print(p.__next__())\n",
    "print(p.__next__())\n"
   ]
  },
  {
   "cell_type": "code",
   "execution_count": 60,
   "id": "f8c4cc4e-a6f6-4fdf-9b3b-6509dc2c8c78",
   "metadata": {},
   "outputs": [
    {
     "name": "stdout",
     "output_type": "stream",
     "text": [
      "0\n",
      "1\n",
      "1\n",
      "2\n",
      "3\n",
      "5\n",
      "8\n",
      "13\n",
      "21\n",
      "34\n"
     ]
    }
   ],
   "source": [
    "# Q6. Write a python program to print the first 10 Fibonacci numbers using a while loop.\n",
    "\n",
    "# Ans.\n",
    "\n",
    "def test_fib():\n",
    "    a,b = 0,1 \n",
    "    while True:\n",
    "        yield a \n",
    "        a,b = b, a+b\n",
    "fibonacci = test_fib()\n",
    "for i in range(10):\n",
    "    print(next(fibonacci))"
   ]
  },
  {
   "cell_type": "code",
   "execution_count": 59,
   "id": "9414ff03-15f1-4da9-8990-c4258bd534c8",
   "metadata": {},
   "outputs": [
    {
     "name": "stdout",
     "output_type": "stream",
     "text": [
      "['p', 'w', 's', 'k', 'i', 'l', 'l', 's']\n"
     ]
    }
   ],
   "source": [
    "# Q7.  Write a List Comprehension to iterate through the given string: ‘pwskills’.\n",
    "#      Expected output: ['p', 'w', 's', 'k', 'i', 'l', 'l', 's']\n",
    "\n",
    "# Ans.\n",
    "\n",
    "string = \"pwskills\"\n",
    "list = []\n",
    "for i in string:\n",
    "    list.append(i)\n",
    "print(list)"
   ]
  },
  {
   "cell_type": "code",
   "execution_count": 65,
   "id": "1a4688d5-4376-4a84-a7e8-f85fa95ad89d",
   "metadata": {},
   "outputs": [
    {
     "name": "stdin",
     "output_type": "stream",
     "text": [
      "Enter a number 101\n"
     ]
    },
    {
     "name": "stdout",
     "output_type": "stream",
     "text": [
      "The number is palindrome!\n"
     ]
    }
   ],
   "source": [
    "# Q8. Write a python program to check whether a given number is Palindrome or not using a while loop.\n",
    "\n",
    "# Ans.  \n",
    "\n",
    "\n",
    "num = int(input(\"Enter a number\"))\n",
    "temp=num\n",
    "rev=0\n",
    "while(num>0):\n",
    "    dig=num%10\n",
    "    rev=rev*10+dig\n",
    "    num=num//10\n",
    "if(temp==rev):\n",
    "    print(\"The number is palindrome!\")\n",
    "else:\n",
    "    print(\"Not a palindrome!\")\n",
    "\n"
   ]
  },
  {
   "cell_type": "code",
   "execution_count": 72,
   "id": "08db1fca-16f2-48a3-8de6-d542ec3ccced",
   "metadata": {},
   "outputs": [
    {
     "name": "stdout",
     "output_type": "stream",
     "text": [
      "Numbers List [1, 2, 3, 4, 5, 6, 7, 8, 9, 10, 11, 12, 13, 14, 15, 16, 17, 18, 19, 20, 21, 22, 23, 24, 25, 26, 27, 28, 29, 30, 31, 32, 33, 34, 35, 36, 37, 38, 39, 40, 41, 42, 43, 44, 45, 46, 47, 48, 49, 50, 51, 52, 53, 54, 55, 56, 57, 58, 59, 60, 61, 62, 63, 64, 65, 66, 67, 68, 69, 70, 71, 72, 73, 74, 75, 76, 77, 78, 79, 80, 81, 82, 83, 84, 85, 86, 87, 88, 89, 90, 91, 92, 93, 94, 95, 96, 97, 98, 99, 100]\n",
      "Odd Number List : [1, 3, 5, 7, 9, 11, 13, 15, 17, 19, 21, 23, 25, 27, 29, 31, 33, 35, 37, 39, 41, 43, 45, 47, 49, 51, 53, 55, 57, 59, 61, 63, 65, 67, 69, 71, 73, 75, 77, 79, 81, 83, 85, 87, 89, 91, 93, 95, 97, 99]\n"
     ]
    }
   ],
   "source": [
    "# Q9. Write a code to print odd numbers from 1 to 100 using list comprehension.\n",
    "#     Note: Use a list comprehension to create a list from 1 to 100 and use another List comprehension to filter\n",
    "#           out odd numbers.\n",
    "\n",
    "# Ans. \n",
    "\n",
    "list_1 = []\n",
    "for i in range(1,101):\n",
    "    list_1.append(i)\n",
    "print(\"Numbers List\" ,list_1)\n",
    "\n",
    "list_2 = []\n",
    "for j in range(i):\n",
    "    if j%2!=0:\n",
    "        list_2.append(j)\n",
    "print(\"Odd Number List :\" ,list_2)"
   ]
  },
  {
   "cell_type": "code",
   "execution_count": null,
   "id": "14cd7b14-fcd4-404c-9e8b-60944e2d3f43",
   "metadata": {},
   "outputs": [],
   "source": []
  }
 ],
 "metadata": {
  "kernelspec": {
   "display_name": "Python 3 (ipykernel)",
   "language": "python",
   "name": "python3"
  },
  "language_info": {
   "codemirror_mode": {
    "name": "ipython",
    "version": 3
   },
   "file_extension": ".py",
   "mimetype": "text/x-python",
   "name": "python",
   "nbconvert_exporter": "python",
   "pygments_lexer": "ipython3",
   "version": "3.10.8"
  }
 },
 "nbformat": 4,
 "nbformat_minor": 5
}
